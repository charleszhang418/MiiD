{
 "cells": [
  {
   "cell_type": "code",
   "execution_count": 12,
   "metadata": {},
   "outputs": [],
   "source": [
    "import os\n",
    "import shutil\n",
    "import csv\n",
    "from collections import defaultdict\n",
    "import utils\n",
    "import matplotlib.pyplot as plt\n",
    "import seaborn as sns\n",
    "import pandas as pd"
   ]
  },
  {
   "cell_type": "code",
   "execution_count": 8,
   "metadata": {},
   "outputs": [
    {
     "name": "stdout",
     "output_type": "stream",
     "text": [
      "Processing Traning Data\n",
      "f:\\MiiD\\data\\IRMAS-TrainingData\n",
      "Finished Moving Training Data\n"
     ]
    }
   ],
   "source": [
    "# Download the audio sets from https://zenodo.org/records/1290750#.WzCwSRyxXMU\n",
    "# Please create a folder called /data and put all the extracted folders inside\n",
    "\n",
    "def load_testset(dest):\n",
    "    src = os.path.abspath('./data/IRMAS-TrainingData')\n",
    "\n",
    "    file_dest = os.path.abspath(dest)\n",
    "\n",
    "    print(\"Processing Traning Data\")\n",
    "    print(src)\n",
    "    for root, _, files in os.walk(src):\n",
    "        for file in files:\n",
    "            if file[-4:] != '.wav':\n",
    "                continue\n",
    "            file_src = os.path.join(root, file)\n",
    "            shutil.move(file_src, file_dest)\n",
    "\n",
    "    print(\"Finished Moving Training Data\")\n",
    "\n",
    "\n",
    "load_testset('./TrainingData')"
   ]
  },
  {
   "cell_type": "code",
   "execution_count": 15,
   "metadata": {},
   "outputs": [],
   "source": [
    "label_counts = defaultdict(int)\n",
    "training_data = os.path.abspath('./TrainingData')\n",
    "\n",
    "data = []\n",
    "for _, _, files in os.walk(training_data):\n",
    "    for file in files:\n",
    "        label = utils.extract_anno(file)\n",
    "        data.append({'Musical': label[0], 'Type': label[1]})\n",
    "df = pd.DataFrame(data)\n"
   ]
  }
 ],
 "metadata": {
  "kernelspec": {
   "display_name": "Python 3",
   "language": "python",
   "name": "python3"
  },
  "language_info": {
   "codemirror_mode": {
    "name": "ipython",
    "version": 3
   },
   "file_extension": ".py",
   "mimetype": "text/x-python",
   "name": "python",
   "nbconvert_exporter": "python",
   "pygments_lexer": "ipython3",
   "version": "3.11.2"
  }
 },
 "nbformat": 4,
 "nbformat_minor": 2
}
